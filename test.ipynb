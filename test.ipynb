{
 "cells": [
  {
   "cell_type": "code",
   "execution_count": 1,
   "metadata": {},
   "outputs": [],
   "source": [
    "with open(\"input.txt\") as f:\n",
    "    text = f.read()\n",
    "    \n",
    "len(text)\n",
    "\n",
    "import pandas as pd\n",
    "\n",
    "df=pd.read_csv(\"archive/sample.csv\")\n",
    "\n",
    "\n",
    "len(df['text'])\n",
    "text = df['text'].to_numpy()"
   ]
  },
  {
   "cell_type": "code",
   "execution_count": 2,
   "metadata": {},
   "outputs": [
    {
     "data": {
      "text/plain": [
       "\" < causing the reply to be disregarded and the tapped notification under the keyboard is opened😡😡😡 >  < Your business means a lot to us. Please DM your name, zip code and additional details about your concern. ^RR https://t.co/znUu1VJn9r >  < I really hope you all change but I'm sure you won't! Because you don't have to! >  < LiveChat is online at the moment - https://t.co/SY94VtU8Kq or contact 03331 031 031 option 1, 4, 3 (Leave a message) to request a call back >  < see attached error message. I've tried leaving a voicemail several times in the past week https://t.co/NxVZjlYx1k >  < Have you tried from another device, Miriam ^MM >  < yep, I've tried laptop too several times over the past week and again today. I've tried different browsers too >  < It's working OK from here, Miriam. Does this link help https://t.co/0m2mpH15eh ? ^MM >  < I still haven't heard &amp; the number I'm directed to by phone is a dead end &amp; the live chat doesn't work. Can someone call me? >  < That's what we're here for Miriam 😊 The team should send you an email shortly ^HP >  < We can help. Which version of iOS are you on? You can find that in Settings &gt; General &gt; About. Reply in DM. https://t.co/GDrqU22YpT >  <  Me too am suffering , hope the can find a solution >  < hi #apple, I’ve a concern about the latest ios is too slow on #iphone6 and i am not happy with it. Any solution please? >  < Thanks for reaching out to us. We are always happy to help. Send us a DM so we can look into this together. https://t.co/GDrqU22YpT >  < I just updated my phone and suddenly everything takes ages to load wtf this update sux I hate it fix it bye >  < Hi there! What device is this happening on? If you could also let us know the Android and Spotify versions you're using, that'd be great /AY >  < Thanks! Version 8.4.22.857 armv7 on anker bluetooth speaker on Samsung Galaxy Tab A (2016) Model SM-T280 Does distance from speaker matter? >  < Thanks. The distance could possibly affect playback. Does logging out &gt; restarting your device &gt; logging back in make a difference? /AY >  < No, but I've moved speaker to about 1 metre away and it's not skipping at the mo - it was about 3 or 4 metres away before. Fingers crossed! >  < That's great to hear. If anything comes up, just let us know. We'll carry on helping out 🙂 /AY >  < Brilliant thanks 😊 >  < You're welcome! If there's anything else we can help with, just give us a shout. We're here for you 😉 /CP >  <  Please help! Spotify Premium skipping through songs constantly on android tablet &amp; bluetooth speaker. Tried everything! >  < We'd love to help! Please DM us and let us know any steps you've tried since experiencing these behaviors. https://t.co/GDrqU22YpT >  < after the 11.0.2 my phone just sucks most of the apps are broken, wifi disconnects frequently #apple #ios1102 #painfulupdate >  < We're sorry your flight has been delayed, Beatner. Are you travelling on the BA8733? If so, the updated departure time we have is 15:30. 1/2 >  < First flight for long time with Now over one 1h delay for the short jump FRA-LCY and NO one here to provide status updates >  < Battery life is important, and we're here for you. DM us the iOS version your iPhone is running. We'll go from there. https://t.co/GDrqU22YpT >  < Okay I used my fucking phone for 2 minutes and it drains it down 8 fucking percent >  < Thanks for reaching out to us. We are always happy to help. Send us a DM so we can look into this together. https://t.co/GDrqU22YpT >  < Can you get my iPhone 7plus back on the old iOS please? Battery runs out in half the time, apps now frequently crash. >  < We'd be happy to help. Send us a DM and we can start there. https://t.co/GDrqU22YpT >  < You’ve paralysed my phone with your update grrrrrrrrrr >  < 🤔 We'd like to help Sam, which number is calling you? Please DM us more info so we can advise further. https://t.co/5pyLDJBC6r >  < I received this a few weeks ago, since then I've been getting 2/3 calls a day from a telemarketer. Is someone using your name? https://t.co/GLtz4XHcex >  < I understand this is a frustrating experience, please send a DM with your account information so I can look into this matter for you. -AD >  < My internet is down and xfinity talkin about 24-72 hours... y’all have the game messed up. >  < I understand how you frustrated this situation can be. Please follow us by sending a DM for further assistance. Sprint Cares. -AC >  < I service last 40 min sprint can I get a refund https://t.co/wYPw9hP6wt >  < We'd like to help. What happens when you try to listen to Apple Music &amp; use WhatsApp? Does the music pause? Let us know in DM. https://t.co/GDrqU22YpT >  < So the new update does not let me listen to music and go on whatsapp at the same time?!? >  < Hi Harry! Help's here. Can you check if logging out &gt; restarting your device &gt; logging back in makes a difference? Keep us posted /MU >  < seems to be working at this stage. Will let you know if it happens again. Cheers >  < Sure thing. We'll keep an eye out for your update /MU >  < problem has come back again today. is there some kind of bug? >  < Thanks for giving us a nudge about this. What device, operating system, and Spotify version is this happening on? /AY >  < It's on a Macbook Air (early 2014), running High Sierra, spotify version 1.0.65.320.gac7a8e02 >  < Got it. Can you try the steps here for us: https://t.co/EqisDMwZAT? They should help with this. Let us know how it plays out /AY >  < i've been having issues with playback. songs have been stopping midway through and won't restart unless i close and reopen app >  < Let's take a look. What is the exact iOS you're using? Are you using any specific apps when noticing this? DM us your reply. https://t.co/GDrqU22YpT >  < Latest version 😡😡 I have read the help page turned off virtually all apps and location svs too - but in typing this I dropped 3% life >  < Super help - problem solved 😀 once again in love with Apple >  < #ios11update - is still killing my battery within 12 hours - phone is 10 months old - it’s a disgrace - used to get 2 days >  < Thanks for reaching out to us. We are always happy to help. Send us a DM so we can look into this together. https://t.co/GDrqU22YpT >  < Took my phone off charge at 7:20am. 8:03am - 60% battery remaining. plz I beg you, sort your battery life out😩 >  < Once the points load and you hit the number, you get it immediately! You'll even receive a congrats email. Are you almost there? ^AC >  < I am! Thank you for the answer!! >  < Just curious....will I get the companion pass the exact moment I get enough points? It will I have to wait? Thanks! >  < We'd like to provide some assistance with this. Tell us more about the issue you're experiencing in DM. We'll go from there. https://t.co/GDrqU22YpT >  < I need a new code for my I-store. I haven’t recd any but msg is too many sent. Help! >  < Are you experiencing an issue with your device? If so, DM us with what's going on. We'll see how we can help from there. https://t.co/GDrqU22YpT >  <  fix this update. It’s horrible >  < I appreciate it's after 15:30 now, so hopefully you will depart very soon. We're sorry for any inconvenience the delay has caused. 2/2 ^JR >  < Thanks for your answer. Response onsite was that Aircraft will not depart today, so rebooking to with now 4h delay... >  < Very sorry to hear this. We hope you get everything sorted. Kind Regards ^Jools >  < I am sorry for the poor experience. Can you please DM the full service address and name on the account, as we ass... https://t.co/JEZhqGdBMd >  < It's just in my yard. I've called 4-5 times in 6 weeks. I'm not a customer but it's pretty tempting. I do have some coaxial >  < I guess this means free cable for the neighborhood. https://t.co/FBgEE9YXPm >  < Hi Thomas, if a colleague believes the person buying alcohol looks under 25, they will be challenged for ID to prove they're of age. - Paige >  < Maybe hire colleagues who can see? >  < The point is if it's enforced they do it properly or they don't. Plus take some common-sense and think does that person look over 18? >  < Hi Thomas, this is correct but this helps our store colleagues judge age and protect them from making underage sales. Amanda >  < Uk offlicense law is 18. Not 25 >  < Hi Thomas, we operate a Think 25 policy at our stores. I'd be flattered to be ID'd. :-) - Helena >  < Got id's for buying one Adnams Broadside. Is being blind part of the job-spec? I am 35 and 99 kilos. >  < Hi there, could you try deleting your cache and cookies and reinstalling the app if using it? This should fix the issue :) - Dani >  < Will I lose all the shopping I've done if I delete the cache/cookies (not using app)? >  < Hi there, as long as you sign out of your account prior to deleting your cache &amp; cookies, you'll still have a full basket :) Thanks - Mike >  < Done all that. Still telling me there are no delivery slots whatsoever. >  < Can you DM me your full name, address and email? I'd be happy to look into this further for you :) Thanks - Mike >  < Hey your website's broken. It's telling me there are no delivery slots for the next 3 weeks, which I find slightly unlikely. >  < Is there a particular app that seems to cause these issues more than others? What model iPhone are you using? Join us in DM. https://t.co/GDrqU22YpT >  < I have the latest version iOS. It started immediately after I updated my phone. >  < We'd like to help if we can. When did this start happening? Which version of iOS are you running currently? >  < My apps stop working without warning and my phone freezes every five minutes! Love the new update >  < Hi Agoura, thanks for tweeting. Please refer to this article: https://t.co/BSsgjZARTc &amp; click the link to reply back. ^Rashmi https://t.co/a2xkfCrUG1 >  < Problem with printhead Serial# TH536D1HN #hpcswus #hpprnt >  < UPS has a service called My Choice that will allow your packages to be delivered to UPS Store. ^ML https://t.co/BPZKndqww1 https://t.co/wKJHDXWGRQ >  < I wish Amazon had an option of where I can just get it shipped to the ups store so I can avoid a lot of the struggle >  < They reschedule my shit for tomorrow https://t.co/RsvZcT982t >  < Hey Sara, sorry to hear of the issues you are having, can I ask if it's the lay out or just the speed of the website responding? TY - Chris >  < bit of both - finding the layout cumbersome and when removing an item from faves - getting a huge slowdown. Not keen on the thin green line https://t.co/9281OKEebk >  < If that doesn't help please DM your full name, address and email including the browser and device so we can log this. Thanks - Lee 2/2 > \""
      ]
     },
     "execution_count": 2,
     "metadata": {},
     "output_type": "execute_result"
    }
   ],
   "source": [
    "\n",
    "text_list = text\n",
    "\n",
    "\n",
    "\n",
    "\n",
    "for i in range(len(text_list)):\n",
    "    tmp = text_list[i].split()\n",
    "    for j in range(len(tmp)):\n",
    "        if '@' in tmp[j]:\n",
    "            \n",
    "            tmp[j]=''\n",
    "         \n",
    "    text_list[i] = ' '.join(tmp)    \n",
    "    text_list[i] = ' < '+text_list[i]+\" > \"\n",
    "    text_list[i] = text_list[i].replace('  ',' ')\n",
    "\n",
    "\n",
    "text=''.join(text_list)\n",
    "\n",
    "text\n"
   ]
  },
  {
   "cell_type": "code",
   "execution_count": 3,
   "metadata": {},
   "outputs": [],
   "source": [
    "import tiktoken\n",
    "\n",
    "enc = tiktoken.get_encoding(\"cl100k_base\")\n",
    "\n",
    "text_token=enc.encode(text)\n",
    "    \n",
    "set_token = set(text_token)"
   ]
  },
  {
   "cell_type": "code",
   "execution_count": 4,
   "metadata": {},
   "outputs": [
    {
     "name": "stdout",
     "output_type": "stream",
     "text": [
      "when input is [366] the target: 14718\n",
      "when input is [366, 14718] the target: 279\n",
      "when input is [366, 14718, 279] the target: 10052\n",
      "when input is [366, 14718, 279, 10052] the target: 311\n",
      "when input is [366, 14718, 279, 10052, 311] the target: 387\n",
      "when input is [366, 14718, 279, 10052, 311, 387] the target: 43903\n",
      "when input is [366, 14718, 279, 10052, 311, 387, 43903] the target: 21632\n",
      "when input is [366, 14718, 279, 10052, 311, 387, 43903, 21632] the target: 323\n",
      "when input is [366, 14718, 279, 10052, 311, 387, 43903, 21632, 323] the target: 279\n",
      "when input is [366, 14718, 279, 10052, 311, 387, 43903, 21632, 323, 279] the target: 49523\n"
     ]
    }
   ],
   "source": [
    "block_size=10\n",
    "\n",
    "n=int(len(text_token)*0.9)\n",
    "train_data=text_token[:n]\n",
    "val_data=text_token[n:]\n",
    "\n",
    "\n",
    "train_data[:block_size+1]\n",
    "x = train_data[:block_size]\n",
    "y = train_data[1:block_size+1]\n",
    "for t in range(block_size):\n",
    "    context = x[:t+1]\n",
    "    target = y[t]\n",
    "\n",
    "    print(f\"when input is {context} the target: {target}\")\n",
    "\n"
   ]
  },
  {
   "cell_type": "code",
   "execution_count": 5,
   "metadata": {},
   "outputs": [],
   "source": [
    "batch_size=512\n",
    "\n",
    "\n",
    "\n",
    "\n",
    "from model import build_transformer\n",
    "\n",
    "transformer=build_transformer(src_vocab_size=len(set_token),tgt_vocab_size=len(set_token),src_seq_lenght=batch_size,tgt_seq_len=1)"
   ]
  },
  {
   "cell_type": "code",
   "execution_count": 7,
   "metadata": {},
   "outputs": [
    {
     "ename": "AttributeError",
     "evalue": "'Transformer' object has no attribute 'summary'",
     "output_type": "error",
     "traceback": [
      "\u001b[0;31m---------------------------------------------------------------------------\u001b[0m",
      "\u001b[0;31mAttributeError\u001b[0m                            Traceback (most recent call last)",
      "Cell \u001b[0;32mIn[7], line 1\u001b[0m\n\u001b[0;32m----> 1\u001b[0m transformer\u001b[38;5;241m.\u001b[39msummary()\n",
      "File \u001b[0;32m~/anaconda3/lib/python3.11/site-packages/torch/nn/modules/module.py:1708\u001b[0m, in \u001b[0;36mModule.__getattr__\u001b[0;34m(self, name)\u001b[0m\n\u001b[1;32m   1706\u001b[0m     \u001b[38;5;28;01mif\u001b[39;00m name \u001b[38;5;129;01min\u001b[39;00m modules:\n\u001b[1;32m   1707\u001b[0m         \u001b[38;5;28;01mreturn\u001b[39;00m modules[name]\n\u001b[0;32m-> 1708\u001b[0m \u001b[38;5;28;01mraise\u001b[39;00m \u001b[38;5;167;01mAttributeError\u001b[39;00m(\u001b[38;5;124mf\u001b[39m\u001b[38;5;124m\"\u001b[39m\u001b[38;5;124m'\u001b[39m\u001b[38;5;132;01m{\u001b[39;00m\u001b[38;5;28mtype\u001b[39m(\u001b[38;5;28mself\u001b[39m)\u001b[38;5;241m.\u001b[39m\u001b[38;5;18m__name__\u001b[39m\u001b[38;5;132;01m}\u001b[39;00m\u001b[38;5;124m'\u001b[39m\u001b[38;5;124m object has no attribute \u001b[39m\u001b[38;5;124m'\u001b[39m\u001b[38;5;132;01m{\u001b[39;00mname\u001b[38;5;132;01m}\u001b[39;00m\u001b[38;5;124m'\u001b[39m\u001b[38;5;124m\"\u001b[39m)\n",
      "\u001b[0;31mAttributeError\u001b[0m: 'Transformer' object has no attribute 'summary'"
     ]
    }
   ],
   "source": []
  },
  {
   "cell_type": "code",
   "execution_count": 9,
   "metadata": {},
   "outputs": [
    {
     "ename": "NotImplementedError",
     "evalue": "Module [Transformer] is missing the required \"forward\" function",
     "output_type": "error",
     "traceback": [
      "\u001b[0;31m---------------------------------------------------------------------------\u001b[0m",
      "\u001b[0;31mNotImplementedError\u001b[0m                       Traceback (most recent call last)",
      "Cell \u001b[0;32mIn[9], line 7\u001b[0m\n\u001b[1;32m      5\u001b[0m xt \u001b[38;5;241m=\u001b[39m x[:t\u001b[38;5;241m+\u001b[39m\u001b[38;5;241m1\u001b[39m]\n\u001b[1;32m      6\u001b[0m yt\u001b[38;5;241m=\u001b[39m y[t]\n\u001b[0;32m----> 7\u001b[0m transformer(xt,yt)\n",
      "File \u001b[0;32m~/anaconda3/lib/python3.11/site-packages/torch/nn/modules/module.py:1532\u001b[0m, in \u001b[0;36mModule._wrapped_call_impl\u001b[0;34m(self, *args, **kwargs)\u001b[0m\n\u001b[1;32m   1530\u001b[0m     \u001b[38;5;28;01mreturn\u001b[39;00m \u001b[38;5;28mself\u001b[39m\u001b[38;5;241m.\u001b[39m_compiled_call_impl(\u001b[38;5;241m*\u001b[39margs, \u001b[38;5;241m*\u001b[39m\u001b[38;5;241m*\u001b[39mkwargs)  \u001b[38;5;66;03m# type: ignore[misc]\u001b[39;00m\n\u001b[1;32m   1531\u001b[0m \u001b[38;5;28;01melse\u001b[39;00m:\n\u001b[0;32m-> 1532\u001b[0m     \u001b[38;5;28;01mreturn\u001b[39;00m \u001b[38;5;28mself\u001b[39m\u001b[38;5;241m.\u001b[39m_call_impl(\u001b[38;5;241m*\u001b[39margs, \u001b[38;5;241m*\u001b[39m\u001b[38;5;241m*\u001b[39mkwargs)\n",
      "File \u001b[0;32m~/anaconda3/lib/python3.11/site-packages/torch/nn/modules/module.py:1541\u001b[0m, in \u001b[0;36mModule._call_impl\u001b[0;34m(self, *args, **kwargs)\u001b[0m\n\u001b[1;32m   1536\u001b[0m \u001b[38;5;66;03m# If we don't have any hooks, we want to skip the rest of the logic in\u001b[39;00m\n\u001b[1;32m   1537\u001b[0m \u001b[38;5;66;03m# this function, and just call forward.\u001b[39;00m\n\u001b[1;32m   1538\u001b[0m \u001b[38;5;28;01mif\u001b[39;00m \u001b[38;5;129;01mnot\u001b[39;00m (\u001b[38;5;28mself\u001b[39m\u001b[38;5;241m.\u001b[39m_backward_hooks \u001b[38;5;129;01mor\u001b[39;00m \u001b[38;5;28mself\u001b[39m\u001b[38;5;241m.\u001b[39m_backward_pre_hooks \u001b[38;5;129;01mor\u001b[39;00m \u001b[38;5;28mself\u001b[39m\u001b[38;5;241m.\u001b[39m_forward_hooks \u001b[38;5;129;01mor\u001b[39;00m \u001b[38;5;28mself\u001b[39m\u001b[38;5;241m.\u001b[39m_forward_pre_hooks\n\u001b[1;32m   1539\u001b[0m         \u001b[38;5;129;01mor\u001b[39;00m _global_backward_pre_hooks \u001b[38;5;129;01mor\u001b[39;00m _global_backward_hooks\n\u001b[1;32m   1540\u001b[0m         \u001b[38;5;129;01mor\u001b[39;00m _global_forward_hooks \u001b[38;5;129;01mor\u001b[39;00m _global_forward_pre_hooks):\n\u001b[0;32m-> 1541\u001b[0m     \u001b[38;5;28;01mreturn\u001b[39;00m forward_call(\u001b[38;5;241m*\u001b[39margs, \u001b[38;5;241m*\u001b[39m\u001b[38;5;241m*\u001b[39mkwargs)\n\u001b[1;32m   1543\u001b[0m \u001b[38;5;28;01mtry\u001b[39;00m:\n\u001b[1;32m   1544\u001b[0m     result \u001b[38;5;241m=\u001b[39m \u001b[38;5;28;01mNone\u001b[39;00m\n",
      "File \u001b[0;32m~/anaconda3/lib/python3.11/site-packages/torch/nn/modules/module.py:351\u001b[0m, in \u001b[0;36m_forward_unimplemented\u001b[0;34m(self, *input)\u001b[0m\n\u001b[1;32m    340\u001b[0m \u001b[38;5;28;01mdef\u001b[39;00m \u001b[38;5;21m_forward_unimplemented\u001b[39m(\u001b[38;5;28mself\u001b[39m, \u001b[38;5;241m*\u001b[39m\u001b[38;5;28minput\u001b[39m: Any) \u001b[38;5;241m-\u001b[39m\u001b[38;5;241m>\u001b[39m \u001b[38;5;28;01mNone\u001b[39;00m:\n\u001b[1;32m    341\u001b[0m \u001b[38;5;250m    \u001b[39m\u001b[38;5;124mr\u001b[39m\u001b[38;5;124;03m\"\"\"Define the computation performed at every call.\u001b[39;00m\n\u001b[1;32m    342\u001b[0m \n\u001b[1;32m    343\u001b[0m \u001b[38;5;124;03m    Should be overridden by all subclasses.\u001b[39;00m\n\u001b[0;32m   (...)\u001b[0m\n\u001b[1;32m    349\u001b[0m \u001b[38;5;124;03m        registered hooks while the latter silently ignores them.\u001b[39;00m\n\u001b[1;32m    350\u001b[0m \u001b[38;5;124;03m    \"\"\"\u001b[39;00m\n\u001b[0;32m--> 351\u001b[0m     \u001b[38;5;28;01mraise\u001b[39;00m \u001b[38;5;167;01mNotImplementedError\u001b[39;00m(\u001b[38;5;124mf\u001b[39m\u001b[38;5;124m\"\u001b[39m\u001b[38;5;124mModule [\u001b[39m\u001b[38;5;132;01m{\u001b[39;00m\u001b[38;5;28mtype\u001b[39m(\u001b[38;5;28mself\u001b[39m)\u001b[38;5;241m.\u001b[39m\u001b[38;5;18m__name__\u001b[39m\u001b[38;5;132;01m}\u001b[39;00m\u001b[38;5;124m] is missing the required \u001b[39m\u001b[38;5;130;01m\\\"\u001b[39;00m\u001b[38;5;124mforward\u001b[39m\u001b[38;5;130;01m\\\"\u001b[39;00m\u001b[38;5;124m function\u001b[39m\u001b[38;5;124m\"\u001b[39m)\n",
      "\u001b[0;31mNotImplementedError\u001b[0m: Module [Transformer] is missing the required \"forward\" function"
     ]
    }
   ],
   "source": [
    "train_data[:batch_size+1]\n",
    "x = train_data[:batch_size]\n",
    "y = train_data[1:batch_size+1]\n",
    "for t in range(batch_size):\n",
    "    xt = x[:t+1]\n",
    "    yt= y[t]\n",
    "    transformer(xt,yt)\n",
    "\n",
    "    \n",
    "    \n"
   ]
  },
  {
   "cell_type": "code",
   "execution_count": null,
   "metadata": {},
   "outputs": [],
   "source": []
  }
 ],
 "metadata": {
  "kernelspec": {
   "display_name": "base",
   "language": "python",
   "name": "python3"
  },
  "language_info": {
   "codemirror_mode": {
    "name": "ipython",
    "version": 3
   },
   "file_extension": ".py",
   "mimetype": "text/x-python",
   "name": "python",
   "nbconvert_exporter": "python",
   "pygments_lexer": "ipython3",
   "version": "3.11.4"
  }
 },
 "nbformat": 4,
 "nbformat_minor": 2
}
